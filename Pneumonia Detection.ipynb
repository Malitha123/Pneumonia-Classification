{
 "cells": [
  {
   "cell_type": "code",
   "execution_count": 1,
   "id": "6765fb14",
   "metadata": {},
   "outputs": [
    {
     "name": "stderr",
     "output_type": "stream",
     "text": [
      "Using TensorFlow backend.\n"
     ]
    }
   ],
   "source": [
    "import numpy as np\n",
    "import cv2\n",
    "import glob\n",
    "import keras\n",
    "from sklearn.preprocessing import OneHotEncoder\n",
    "from keras.models import load_model, Model\n",
    "from keras.preprocessing.image import ImageDataGenerator\n",
    "from keras.optimizers import Adam, SGD\n",
    "from keras.layers import Conv2D, Input, Flatten, Dense, MaxPooling2D, Activation,MaxPool2D\n",
    "from keras.callbacks import ModelCheckpoint, EarlyStopping, ReduceLROnPlateau\n",
    "from keras.models import Sequential"
   ]
  },
  {
   "cell_type": "code",
   "execution_count": 2,
   "id": "d14fe56e",
   "metadata": {},
   "outputs": [],
   "source": [
    "train_direct = \"chest_xray/train/\"\n",
    "test_direct = \"chest_xray/test/\"\n",
    "im_size = 200\n",
    "batch_size = 32\n",
    "\n",
    "def dir_img_lab(dir):\n",
    "    \n",
    "    norm_img = glob.glob(dir+\"NORMAL/*.jpeg\")\n",
    "    norm_labels = np.array(['normal']*len(norm_img))\n",
    "\n",
    "    pnm_img = glob.glob(dir+\"PNEUMONIA/*.jpeg\")\n",
    "    pnm_labels = np.array(list(map(lambda x: x.split(\"_\")[2],pnm_img)))\n",
    "\n",
    "    return norm_img,norm_labels,pnm_img,pnm_labels\n",
    "\n",
    "trn_norm_img, trn_norm_lab, trn_pnm_img, trn_pnm_lab = dir_img_lab(train_direct)\n",
    "tst_norm_img, tst_norm_lab, tst_pnm_img, tst_pnm_lab = dir_img_lab(test_direct)"
   ]
  },
  {
   "cell_type": "code",
   "execution_count": 3,
   "id": "a8696f9e",
   "metadata": {},
   "outputs": [],
   "source": [
    "def get_x(files):\n",
    "    train_x = np.zeros((len(files), im_size, im_size, 1), dtype = 'float32')\n",
    "    \n",
    "    for i, img_file in enumerate(files):\n",
    "        img = cv2.resize(cv2.imread(img_file, cv2.IMREAD_GRAYSCALE), ((im_size,im_size)))\n",
    "        img_array = np.expand_dims(np.array(img[...,::-1].astype(np.float32)).copy(), axis=0)\n",
    "        train_x[i] = img_array.reshape(img_array.shape[1],img_array.shape[2],1)\n",
    "    return train_x\n",
    "\n",
    "trn_norm_x= get_x(trn_norm_img)\n",
    "trn_pnm_x= get_x(trn_pnm_img)\n",
    "tst_norm_x= get_x(tst_norm_img)\n",
    "tst_pnm_x= get_x(tst_pnm_img)"
   ]
  },
  {
   "cell_type": "code",
   "execution_count": 4,
   "id": "3cb7e673",
   "metadata": {},
   "outputs": [
    {
     "name": "stdout",
     "output_type": "stream",
     "text": [
      "train normal array shape : (1341, 200, 200, 1)\n",
      "train pneumonia array shape : (3875, 200, 200, 1)\n",
      "\n",
      "test normal array shape : (234, 200, 200, 1)\n",
      "test pneumonia array shape : (390, 200, 200, 1)\n"
     ]
    }
   ],
   "source": [
    "print(\"train normal array shape :\",trn_norm_x.shape)\n",
    "print(\"train pneumonia array shape :\",trn_pnm_x.shape)\n",
    "print(\"\\ntest normal array shape :\",tst_norm_x.shape)\n",
    "print(\"test pneumonia array shape :\",tst_pnm_x.shape)"
   ]
  },
  {
   "cell_type": "code",
   "execution_count": 7,
   "id": "6c50f878",
   "metadata": {},
   "outputs": [
    {
     "name": "stdout",
     "output_type": "stream",
     "text": [
      "ERROR! Session/line number was not unique in database. History logging moved to new session 997\n"
     ]
    }
   ],
   "source": [
    "x_train = np.append(trn_norm_x,trn_pnm_x,axis=0)\n",
    "y_train = np.append(trn_norm_lab,trn_pnm_lab)\n",
    "\n",
    "x_test = np.append(tst_norm_x,tst_pnm_x,axis=0)\n",
    "y_test = np.append(tst_norm_lab,tst_pnm_lab)\n",
    "\n",
    "encoder = OneHotEncoder(sparse=False)\n",
    "y_train_enc= encoder.fit_transform(y_train.reshape(-1, 1))\n",
    "y_test_enc= encoder.fit_transform(y_test.reshape(-1, 1))\n"
   ]
  },
  {
   "cell_type": "code",
   "execution_count": 8,
   "id": "9abb3a38",
   "metadata": {},
   "outputs": [
    {
     "data": {
      "text/plain": [
       "((5216,), (624,), (5216, 3), (624, 3))"
      ]
     },
     "execution_count": 8,
     "metadata": {},
     "output_type": "execute_result"
    }
   ],
   "source": [
    "y_train.shape, y_test.shape, y_train_enc.shape, y_test_enc.shape"
   ]
  },
  {
   "cell_type": "code",
   "execution_count": 9,
   "id": "a2a5f8a4",
   "metadata": {},
   "outputs": [],
   "source": [
    "train_datagen = ImageDataGenerator(rotation_range = 45,\n",
    "                                  width_shift_range= 0.2,\n",
    "                                  height_shift_range= 0.2,\n",
    "                                  shear_range= 0.2,\n",
    "                                  zoom_range= 0.25,\n",
    "                                  horizontal_flip= True,\n",
    "                                  fill_mode= 'nearest')\n",
    "\n",
    "train_generator = train_datagen.flow(x_train,\n",
    "                                    y_train_enc,\n",
    "                                    batch_size = batch_size)\n",
    "\n",
    "test_generator = ImageDataGenerator().flow(x_test,\n",
    "                                          y_test_enc,\n",
    "                                          batch_size= batch_size)"
   ]
  },
  {
   "cell_type": "code",
   "execution_count": 10,
   "id": "85dc0867",
   "metadata": {},
   "outputs": [
    {
     "name": "stdout",
     "output_type": "stream",
     "text": [
      "Model: \"sequential_1\"\n",
      "_________________________________________________________________\n",
      "Layer (type)                 Output Shape              Param #   \n",
      "=================================================================\n",
      "conv2d_1 (Conv2D)            (None, 200, 200, 16)      160       \n",
      "_________________________________________________________________\n",
      "conv2d_2 (Conv2D)            (None, 200, 200, 32)      4640      \n",
      "_________________________________________________________________\n",
      "max_pooling2d_1 (MaxPooling2 (None, 100, 100, 32)      0         \n",
      "_________________________________________________________________\n",
      "conv2d_3 (Conv2D)            (None, 100, 100, 16)      4624      \n",
      "_________________________________________________________________\n",
      "conv2d_4 (Conv2D)            (None, 100, 100, 32)      4640      \n",
      "_________________________________________________________________\n",
      "max_pooling2d_2 (MaxPooling2 (None, 50, 50, 32)        0         \n",
      "_________________________________________________________________\n",
      "conv2d_5 (Conv2D)            (None, 50, 50, 16)        4624      \n",
      "_________________________________________________________________\n",
      "conv2d_6 (Conv2D)            (None, 50, 50, 32)        4640      \n",
      "_________________________________________________________________\n",
      "max_pooling2d_3 (MaxPooling2 (None, 25, 25, 32)        0         \n",
      "_________________________________________________________________\n",
      "flatten_1 (Flatten)          (None, 20000)             0         \n",
      "_________________________________________________________________\n",
      "dense_1 (Dense)              (None, 50)                1000050   \n",
      "_________________________________________________________________\n",
      "dense_2 (Dense)              (None, 3)                 153       \n",
      "=================================================================\n",
      "Total params: 1,023,531\n",
      "Trainable params: 1,023,531\n",
      "Non-trainable params: 0\n",
      "_________________________________________________________________\n"
     ]
    }
   ],
   "source": [
    "#Input with the shape of (200,200,1)\n",
    "\n",
    "model = Sequential()\n",
    "\n",
    "\n",
    "model.add(Conv2D(16, (3,3), activation='relu', strides =(1,1) ,padding='same', input_shape=(im_size,im_size,1)))\n",
    "model.add(Conv2D(32, (3, 3),activation='relu',strides=(1, 1),padding='same'))\n",
    "model.add(MaxPooling2D(pool_size=(2,2)))\n",
    "\n",
    "\n",
    "model.add(Conv2D(16, (3,3), activation='relu', strides =(1,1) ,padding='same', input_shape=(im_size,im_size,1)))\n",
    "model.add(Conv2D(32, (3, 3),activation='relu',strides=(1, 1),padding='same'))\n",
    "model.add(MaxPooling2D(pool_size=(2,2)))\n",
    "\n",
    "model.add(Conv2D(16, (3,3), activation='relu', strides =(1,1) ,padding='same', input_shape=(im_size,im_size,1)))\n",
    "model.add(Conv2D(32, (3, 3),activation='relu',strides=(1, 1),padding='same'))\n",
    "model.add(MaxPooling2D(pool_size=(2,2)))\n",
    "\n",
    "model.add(Flatten())\n",
    "model.add(Dense(50, activation= 'relu'))\n",
    "\n",
    "model.add(Dense(3, activation='softmax'))\n",
    "# model.add(Dense(3))\n",
    "# model.add(Activation('softmax'))\n",
    "\n",
    "\n",
    "model.summary()"
   ]
  },
  {
   "cell_type": "code",
   "execution_count": 11,
   "id": "1beb8be6",
   "metadata": {},
   "outputs": [],
   "source": [
    "#epochs for model training and learning rate for optimizer\n",
    "epochs = 20\n",
    "learning_rate = 0.01\n",
    "\n",
    "model.compile( optimizer = Adam(lr=0.001),\n",
    "      loss='categorical_crossentropy',\n",
    "      metrics=[\"accuracy\"])"
   ]
  },
  {
   "cell_type": "code",
   "execution_count": 12,
   "id": "79e782ff",
   "metadata": {},
   "outputs": [
    {
     "name": "stdout",
     "output_type": "stream",
     "text": [
      "Epoch 1/20\n",
      "163/163 [==============================] - 252s 2s/step - loss: 2.3168 - accuracy: 0.5481 - val_loss: 0.8163 - val_accuracy: 0.6941\n",
      "Epoch 2/20\n",
      "163/163 [==============================] - 257s 2s/step - loss: 0.7757 - accuracy: 0.6614 - val_loss: 0.6564 - val_accuracy: 0.7247\n",
      "Epoch 3/20\n",
      "163/163 [==============================] - 288s 2s/step - loss: 0.7393 - accuracy: 0.6852 - val_loss: 0.6833 - val_accuracy: 0.7314\n",
      "Epoch 4/20\n",
      "163/163 [==============================] - 278s 2s/step - loss: 0.7335 - accuracy: 0.6827 - val_loss: 0.7560 - val_accuracy: 0.6943\n",
      "Epoch 5/20\n",
      "163/163 [==============================] - 259s 2s/step - loss: 0.7025 - accuracy: 0.7099 - val_loss: 1.1827 - val_accuracy: 0.5963\n",
      "Epoch 6/20\n",
      "163/163 [==============================] - 258s 2s/step - loss: 0.7428 - accuracy: 0.6779 - val_loss: 0.5979 - val_accuracy: 0.6588\n",
      "Epoch 7/20\n",
      "163/163 [==============================] - 299s 2s/step - loss: 0.6968 - accuracy: 0.7095 - val_loss: 0.6172 - val_accuracy: 0.6672\n",
      "Epoch 8/20\n",
      "163/163 [==============================] - 310s 2s/step - loss: 0.6896 - accuracy: 0.7097 - val_loss: 0.7092 - val_accuracy: 0.7162\n",
      "Epoch 9/20\n",
      "163/163 [==============================] - 313s 2s/step - loss: 0.6807 - accuracy: 0.7078 - val_loss: 0.6951 - val_accuracy: 0.7348\n",
      "Epoch 10/20\n",
      "163/163 [==============================] - 312s 2s/step - loss: 0.6751 - accuracy: 0.7161 - val_loss: 0.8783 - val_accuracy: 0.6503\n",
      "Epoch 11/20\n",
      "163/163 [==============================] - 312s 2s/step - loss: 0.6666 - accuracy: 0.7189 - val_loss: 0.5067 - val_accuracy: 0.7449\n",
      "Epoch 12/20\n",
      "163/163 [==============================] - 314s 2s/step - loss: 0.6641 - accuracy: 0.7132 - val_loss: 0.5321 - val_accuracy: 0.7736\n",
      "Epoch 13/20\n",
      "163/163 [==============================] - 310s 2s/step - loss: 0.6572 - accuracy: 0.7268 - val_loss: 0.6821 - val_accuracy: 0.7297\n",
      "Epoch 14/20\n",
      "163/163 [==============================] - 315s 2s/step - loss: 0.6570 - accuracy: 0.7266 - val_loss: 0.8309 - val_accuracy: 0.6892\n",
      "Epoch 15/20\n",
      "163/163 [==============================] - 312s 2s/step - loss: 0.6691 - accuracy: 0.7151 - val_loss: 0.7762 - val_accuracy: 0.7314\n",
      "Epoch 16/20\n",
      "163/163 [==============================] - 272s 2s/step - loss: 0.6570 - accuracy: 0.7191 - val_loss: 0.6942 - val_accuracy: 0.7855\n",
      "Epoch 17/20\n",
      "163/163 [==============================] - 321s 2s/step - loss: 0.6439 - accuracy: 0.7310 - val_loss: 0.5783 - val_accuracy: 0.7804\n",
      "Epoch 18/20\n",
      "163/163 [==============================] - 272s 2s/step - loss: 0.6618 - accuracy: 0.7176 - val_loss: 0.8014 - val_accuracy: 0.6267\n",
      "Epoch 19/20\n",
      "163/163 [==============================] - 272s 2s/step - loss: 0.6452 - accuracy: 0.7293 - val_loss: 0.5139 - val_accuracy: 0.7922\n",
      "Epoch 20/20\n",
      "163/163 [==============================] - 266s 2s/step - loss: 0.6341 - accuracy: 0.7339 - val_loss: 0.8724 - val_accuracy: 0.6706\n"
     ]
    }
   ],
   "source": [
    "hist = model.fit(train_generator,\n",
    "                 steps_per_epoch= x_train.shape[0] // batch_size,\n",
    "                 epochs= epochs,\n",
    "                 validation_data= test_generator,\n",
    "                 validation_steps= x_test.shape[0] // batch_size)"
   ]
  },
  {
   "cell_type": "code",
   "execution_count": 15,
   "id": "f8a57046",
   "metadata": {},
   "outputs": [
    {
     "data": {
      "image/png": "[encoded data removed]",
      "text/plain": [
       "<Figure size 576x432 with 1 Axes>"
      ]
     },
     "metadata": {
      "needs_background": "light"
     },
     "output_type": "display_data"
    },
    {
     "data": {
      "image/png": "[encoded data removed]",
      "text/plain": [
       "<Figure size 576x432 with 1 Axes>"
      ]
     },
     "metadata": {
      "needs_background": "light"
     },
     "output_type": "display_data"
    }
   ],
   "source": [
    "#Accuracy Graph\n",
    "import matplotlib.pyplot as plt\n",
    "plt.figure(figsize=(8,6))\n",
    "plt.title('Accuracy scores')\n",
    "plt.plot(hist.history['accuracy'])\n",
    "plt.plot(hist.history['val_accuracy'])\n",
    "plt.legend(['acc', 'val_acc'])\n",
    "plt.grid()\n",
    "plt.show()\n",
    "\n",
    "#Loss Graph\n",
    "plt.figure(figsize=(8,6))\n",
    "plt.title('Loss value')\n",
    "plt.plot(hist.history['loss'])\n",
    "plt.plot(hist.history['val_loss'])\n",
    "plt.legend(['loss', 'val_loss'])\n",
    "plt.grid()\n",
    "plt.show()"
   ]
  },
  {
   "cell_type": "code",
   "execution_count": 16,
   "id": "ea061326",
   "metadata": {},
   "outputs": [],
   "source": [
    "model.save(\"new model\")"
   ]
  },
  {
   "cell_type": "code",
   "execution_count": 17,
   "id": "52ec73ec",
   "metadata": {},
   "outputs": [],
   "source": [
    "model = load_model(\"new model\")"
   ]
  },
  {
   "cell_type": "code",
   "execution_count": 20,
   "id": "df9d4839",
   "metadata": {},
   "outputs": [],
   "source": [
    "labels = ['bacteria','normal','virus']\n",
    "\n",
    "#confusion matrix\n",
    "y_pred = model.predict(x_test)\n",
    "#transforming label back to original\n",
    "y_pred = encoder.inverse_transform(y_pred)\n"
   ]
  },
  {
   "cell_type": "code",
   "execution_count": 28,
   "id": "b403bfd6",
   "metadata": {},
   "outputs": [
    {
     "name": "stdout",
     "output_type": "stream",
     "text": [
      "ERROR! Session/line number was not unique in database. History logging moved to new session 1003\n"
     ]
    },
    {
     "data": {
      "image/png": "[encoded data removed]",
      "text/plain": [
       "<Figure size 576x576 with 2 Axes>"
      ]
     },
     "metadata": {
      "needs_background": "light"
     },
     "output_type": "display_data"
    }
   ],
   "source": [
    "from sklearn.metrics import confusion_matrix\n",
    "import seaborn as sns\n",
    "#matrix of Actual vs Prediction data\n",
    "c_matrix = confusion_matrix(y_test, y_pred)\n",
    "plt.figure(figsize=(8,8))\n",
    "plt.title('Confusion matrix',fontsize=14)\n",
    "sns.heatmap(c_matrix, xticklabels=labels,yticklabels=labels,  annot=True)\n",
    "plt.xlabel(\"Predicted\",fontsize=12)\n",
    "plt.ylabel(\"Actual\",fontsize=12)\n",
    "plt.show()"
   ]
  },
  {
   "cell_type": "code",
   "execution_count": 21,
   "id": "640bd3b3",
   "metadata": {},
   "outputs": [
    {
     "name": "stdout",
     "output_type": "stream",
     "text": [
      "ERROR! Session/line number was not unique in database. History logging moved to new session 1001\n",
      "Actual : normal  Predicted : bacteria\n",
      "Actual : normal  Predicted : normal\n",
      "Actual : bacteria  Predicted : bacteria\n",
      "Actual : bacteria  Predicted : bacteria\n",
      "Actual : bacteria  Predicted : bacteria\n",
      "Actual : bacteria  Predicted : bacteria\n",
      "Actual : bacteria  Predicted : normal\n",
      "Actual : bacteria  Predicted : bacteria\n",
      "Actual : bacteria  Predicted : normal\n",
      "Actual : bacteria  Predicted : bacteria\n",
      "Actual : bacteria  Predicted : bacteria\n",
      "Actual : bacteria  Predicted : bacteria\n",
      "Actual : bacteria  Predicted : bacteria\n",
      "Actual : bacteria  Predicted : bacteria\n",
      "Actual : bacteria  Predicted : bacteria\n",
      "Actual : bacteria  Predicted : bacteria\n",
      "Actual : bacteria  Predicted : bacteria\n"
     ]
    }
   ],
   "source": [
    "for i in range(230,280,3):\n",
    "    pred = model.predict(x_test)[i]\n",
    "\n",
    "    #Display the x-ray image\n",
    "    cv2.imshow(\"Prediction\",x_test[i])\n",
    "\n",
    "    #uncomment below line only when working on google colab\n",
    "    #cv2_imshow(x_test[i])\n",
    "\n",
    "    print(\"Actual :\",y_test[i],\" Predicted :\",labels[np.argmax(pred)])"
   ]
  },
  {
   "cell_type": "code",
   "execution_count": 25,
   "id": "ca721922",
   "metadata": {},
   "outputs": [
    {
     "name": "stdout",
     "output_type": "stream",
     "text": [
      "Actual : normal  Predicted : bacteria\n"
     ]
    }
   ],
   "source": [
    "i = 2\n",
    "pred = model.predict(x_test)[i]\n",
    "cv2.imshow(\"Prediction\",x_test[i])\n",
    "cv2.waitKey(0)\n",
    "cv2.destroyAllWindows()\n",
    "print(\"Actual :\",y_test[i],\" Predicted :\",labels[np.argmax(pred)])"
   ]
  },
  {
   "cell_type": "code",
   "execution_count": null,
   "id": "19168874",
   "metadata": {},
   "outputs": [],
   "source": []
  }
 ],
 "metadata": {
  "kernelspec": {
   "display_name": "Python 3",
   "language": "python",
   "name": "python3"
  },
  "language_info": {
   "codemirror_mode": {
    "name": "ipython",
    "version": 3
   },
   "file_extension": ".py",
   "mimetype": "text/x-python",
   "name": "python",
   "nbconvert_exporter": "python",
   "pygments_lexer": "ipython3",
   "version": "3.7.9"
  }
 },
 "nbformat": 4,
 "nbformat_minor": 5
}
